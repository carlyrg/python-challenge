{
 "cells": [
  {
   "cell_type": "code",
   "execution_count": 56,
   "metadata": {},
   "outputs": [
    {
     "name": "stdout",
     "output_type": "stream",
     "text": [
      "When Jackie Chan saw an Oscar at Sylvester Stallone's house 23 years ago, he said that was the moment he decided he wanted one.\n",
      "\n",
      "On Saturday at the annual Governors Awards, the Chinese actor and martial arts star finally received his little gold statuette, an honorary Oscar for his decades of work in film.\n",
      "\n",
      "\"After 56 years in the film industry, making more than 200 films, after so many bones, finally,\" Chan, 62, quipped at the star-studded gala dinner while holding his Oscar.\n",
      "\n",
      "The actor recalled watching the ceremony with his parents and his father always asking him why he didn't have Hollywood's top accolade despite having made so many movies.\n",
      "\n",
      "He praised his hometown Hong Kong for making him \"proud to be Chinese,\" and thanked his fans, saying they were the reason \"I continue to make movies, jumping through windows, kicking and punching, breaking my bones.\"\n",
      "\n",
      "The actor was introduced by his \"Rush Hour\" co-star Chris Tucker, actress Michelle Yeoh and Tom Hanks, who referred to him as \"Jackie 'Chantastic' Chan.\"\n",
      "\n",
      "Hanks said it was especially gratifying to be able to acknowledge Chan's work because martial arts and action comedy films were two genres often overlooked during awards season.\n",
      "\n",
      "The Academy of Motion Pictures Arts and Sciences, hosts of the annual ceremony, also bestowed honorary Oscars on British film editor Anne V. Coates, casting director Lynn Stalmaster and prolific documentarian Frederick Wiseman.\n",
      "\n",
      "The evening was attended by Hollywood's elite, including Denzel Washington, Lupita Nyong'o, Nicole Kidman, Emma Stone, Ryan Reynolds, Amy Adams and Dev Patel.\n",
      "\n",
      "Stalmaster, 88, credited with securing career-defining roles for actors such as Jeff Bridges, Andy Garcia, Christopher Reeve and John Travolta, is the first casting director to receive an Oscar.\n"
     ]
    }
   ],
   "source": [
    "# import re\n",
    "# import string\n",
    "with open('/Users/snowr/ds_python1/week_3_python_challenge/python-challenge/PyParagraph/raw_data/paragraph_2.txt') as f:\n",
    "    data = f.read()\n",
    "#     data = data.split(\"\\n\")\n",
    "#     words = word.strip(string.punctuation) for word in data.split()\n",
    "    \n",
    "#     #words = re.split(\"(?<=[.!?]) +\", data)\n",
    "print(data)"
   ]
  },
  {
   "cell_type": "code",
   "execution_count": 27,
   "metadata": {},
   "outputs": [
    {
     "name": "stdout",
     "output_type": "stream",
     "text": [
      "When Jackie Chan saw an Oscar at Sylvester Stallone's house  years ago he said that was the moment he decided he wanted one. On Saturday at the annual Governors Awards the Chinese actor and martial arts star finally received his little gold statuette an honorary Oscar for his decades of work in film.  After  years in the film industry making more than   films after so many bones finally  Chan   quipped at the star studded gala dinner while holding his Oscar. The actor recalled watching the ceremony with his parents and his father always asking him why he didn't have Hollywood's top accolade despite having made so many movies. He praised his hometown Hong Kong for making him proud to be Chinese  and thanked his fans saying they were the reason I continue to make movies jumping through windows kicking and punching breaking my bones.  The actor was introduced by his Rush Hour co star Chris Tucker actress Michelle Yeoh and Tom Hanks who referred to him as Jackie 'Chantastic' Chan.  Hanks said it was especially gratifying to be able to acknowledge Chan's work because martial arts and action comedy films were two genres often overlooked during awards season. The Academy of Motion Pictures Arts and Sciences hosts of the annual ceremony also bestowed honorary Oscars on British film editor Anne V. Coates casting director Lynn Stalmaster and prolific documentarian Frederick Wiseman. The evening was attended by Hollywood's elite including Denzel Washington Lupita Nyong'o Nicole Kidman Emma Stone Ryan Reynolds Amy Adams and Dev Patel. Stalmaster   credited with securing career defining roles for actors such as Jeff Bridges Andy Garcia Christopher Reeve and John Travolta is the first casting director to receive an Oscar.\n"
     ]
    }
   ],
   "source": [
    "import numpy as np\n",
    "import re\n",
    "\n",
    "with open('/Users/snowr/ds_python1/week_3_python_challenge/python-challenge/PyParagraph/raw_data/paragraph_2.txt') as f:\n",
    "    data = f.read().replace(\"\\n\", \" \")\n",
    "    data = re.sub(\"[^a-zA-z'\\.]\", \" \", data)\n",
    "    data = re.sub(\"\\s{2}\", \" \", data)\n",
    "    word_split = data.split()\n",
    "    sent_split = data.split('.')\n",
    "print(data)\n"
   ]
  },
  {
   "cell_type": "code",
   "execution_count": 25,
   "metadata": {},
   "outputs": [
    {
     "name": "stdout",
     "output_type": "stream",
     "text": [
      "['When', 'Jackie', 'Chan', 'saw', 'an', 'Oscar', 'at', 'Sylvester', \"Stallone's\", 'house', 'years', 'ago', 'he', 'said', 'that', 'was', 'the', 'moment', 'he', 'decided', 'he', 'wanted', 'one.', 'On', 'Saturday', 'at', 'the', 'annual', 'Governors', 'Awards', 'the', 'Chinese', 'actor', 'and', 'martial', 'arts', 'star', 'finally', 'received', 'his', 'little', 'gold', 'statuette', 'an', 'honorary', 'Oscar', 'for', 'his', 'decades', 'of', 'work', 'in', 'film.', 'After', 'years', 'in', 'the', 'film', 'industry', 'making', 'more', 'than', 'films', 'after', 'so', 'many', 'bones', 'finally', 'Chan', 'quipped', 'at', 'the', 'star', 'studded', 'gala', 'dinner', 'while', 'holding', 'his', 'Oscar.', 'The', 'actor', 'recalled', 'watching', 'the', 'ceremony', 'with', 'his', 'parents', 'and', 'his', 'father', 'always', 'asking', 'him', 'why', 'he', \"didn't\", 'have', \"Hollywood's\", 'top', 'accolade', 'despite', 'having', 'made', 'so', 'many', 'movies.', 'He', 'praised', 'his', 'hometown', 'Hong', 'Kong', 'for', 'making', 'him', 'proud', 'to', 'be', 'Chinese', 'and', 'thanked', 'his', 'fans', 'saying', 'they', 'were', 'the', 'reason', 'I', 'continue', 'to', 'make', 'movies', 'jumping', 'through', 'windows', 'kicking', 'and', 'punching', 'breaking', 'my', 'bones.', 'The', 'actor', 'was', 'introduced', 'by', 'his', 'Rush', 'Hour', 'co', 'star', 'Chris', 'Tucker', 'actress', 'Michelle', 'Yeoh', 'and', 'Tom', 'Hanks', 'who', 'referred', 'to', 'him', 'as', 'Jackie', \"'Chantastic'\", 'Chan.', 'Hanks', 'said', 'it', 'was', 'especially', 'gratifying', 'to', 'be', 'able', 'to', 'acknowledge', \"Chan's\", 'work', 'because', 'martial', 'arts', 'and', 'action', 'comedy', 'films', 'were', 'two', 'genres', 'often', 'overlooked', 'during', 'awards', 'season.', 'The', 'Academy', 'of', 'Motion', 'Pictures', 'Arts', 'and', 'Sciences', 'hosts', 'of', 'the', 'annual', 'ceremony', 'also', 'bestowed', 'honorary', 'Oscars', 'on', 'British', 'film', 'editor', 'Anne', 'V.', 'Coates', 'casting', 'director', 'Lynn', 'Stalmaster', 'and', 'prolific', 'documentarian', 'Frederick', 'Wiseman.', 'The', 'evening', 'was', 'attended', 'by', \"Hollywood's\", 'elite', 'including', 'Denzel', 'Washington', 'Lupita', \"Nyong'o\", 'Nicole', 'Kidman', 'Emma', 'Stone', 'Ryan', 'Reynolds', 'Amy', 'Adams', 'and', 'Dev', 'Patel.', 'Stalmaster', 'credited', 'with', 'securing', 'career', 'defining', 'roles', 'for', 'actors', 'such', 'as', 'Jeff', 'Bridges', 'Andy', 'Garcia', 'Christopher', 'Reeve', 'and', 'John', 'Travolta', 'is', 'the', 'first', 'casting', 'director', 'to', 'receive', 'an', 'Oscar.']\n",
      "283\n"
     ]
    }
   ],
   "source": [
    "#word count\n",
    "print(word_split)\n",
    "print(len(word_split))"
   ]
  },
  {
   "cell_type": "code",
   "execution_count": 28,
   "metadata": {},
   "outputs": [
    {
     "name": "stdout",
     "output_type": "stream",
     "text": [
      "[\"When Jackie Chan saw an Oscar at Sylvester Stallone's house  years ago he said that was the moment he decided he wanted one\", ' On Saturday at the annual Governors Awards the Chinese actor and martial arts star finally received his little gold statuette an honorary Oscar for his decades of work in film', '  After  years in the film industry making more than   films after so many bones finally  Chan   quipped at the star studded gala dinner while holding his Oscar', \" The actor recalled watching the ceremony with his parents and his father always asking him why he didn't have Hollywood's top accolade despite having made so many movies\", ' He praised his hometown Hong Kong for making him proud to be Chinese  and thanked his fans saying they were the reason I continue to make movies jumping through windows kicking and punching breaking my bones', \"  The actor was introduced by his Rush Hour co star Chris Tucker actress Michelle Yeoh and Tom Hanks who referred to him as Jackie 'Chantastic' Chan\", \"  Hanks said it was especially gratifying to be able to acknowledge Chan's work because martial arts and action comedy films were two genres often overlooked during awards season\", ' The Academy of Motion Pictures Arts and Sciences hosts of the annual ceremony also bestowed honorary Oscars on British film editor Anne V', ' Coates casting director Lynn Stalmaster and prolific documentarian Frederick Wiseman', \" The evening was attended by Hollywood's elite including Denzel Washington Lupita Nyong'o Nicole Kidman Emma Stone Ryan Reynolds Amy Adams and Dev Patel\", ' Stalmaster   credited with securing career defining roles for actors such as Jeff Bridges Andy Garcia Christopher Reeve and John Travolta is the first casting director to receive an Oscar', '']\n",
      "12\n"
     ]
    }
   ],
   "source": [
    "#sentence count\n",
    "print(sent_split)\n",
    "print(len(sent_split))"
   ]
  },
  {
   "cell_type": "code",
   "execution_count": 34,
   "metadata": {},
   "outputs": [
    {
     "name": "stdout",
     "output_type": "stream",
     "text": [
      "5.095406360424028\n"
     ]
    }
   ],
   "source": [
    "#letter count per word\n",
    "avg_letter = sum(len(word) for word in word_split) / len(word_split)\n",
    "print(avg_letter)"
   ]
  },
  {
   "cell_type": "code",
   "execution_count": 37,
   "metadata": {},
   "outputs": [
    {
     "name": "stdout",
     "output_type": "stream",
     "text": [
      "23.583333333333332\n"
     ]
    }
   ],
   "source": [
    "#avg sentence length\n",
    "avg_sent = sum(len(x.split()) for x in sent_split) / len(sent_split)\n",
    "print(avg_sent)"
   ]
  }
 ],
 "metadata": {
  "kernelspec": {
   "display_name": "Python 3",
   "language": "python",
   "name": "python3"
  },
  "language_info": {
   "codemirror_mode": {
    "name": "ipython",
    "version": 3
   },
   "file_extension": ".py",
   "mimetype": "text/x-python",
   "name": "python",
   "nbconvert_exporter": "python",
   "pygments_lexer": "ipython3",
   "version": "3.6.4"
  }
 },
 "nbformat": 4,
 "nbformat_minor": 2
}
