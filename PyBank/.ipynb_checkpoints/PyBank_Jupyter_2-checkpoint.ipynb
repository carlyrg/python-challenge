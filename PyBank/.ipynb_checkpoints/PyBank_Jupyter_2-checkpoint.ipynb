{
 "cells": [
  {
   "cell_type": "code",
   "execution_count": 31,
   "metadata": {},
   "outputs": [
    {
     "data": {
      "text/html": [
       "<div>\n",
       "<style scoped>\n",
       "    .dataframe tbody tr th:only-of-type {\n",
       "        vertical-align: middle;\n",
       "    }\n",
       "\n",
       "    .dataframe tbody tr th {\n",
       "        vertical-align: top;\n",
       "    }\n",
       "\n",
       "    .dataframe thead th {\n",
       "        text-align: right;\n",
       "    }\n",
       "</style>\n",
       "<table border=\"1\" class=\"dataframe\">\n",
       "  <thead>\n",
       "    <tr style=\"text-align: right;\">\n",
       "      <th></th>\n",
       "      <th>Date</th>\n",
       "      <th>Revenue</th>\n",
       "    </tr>\n",
       "  </thead>\n",
       "  <tbody>\n",
       "    <tr>\n",
       "      <th>0</th>\n",
       "      <td>Oct-12</td>\n",
       "      <td>1154293</td>\n",
       "    </tr>\n",
       "    <tr>\n",
       "      <th>1</th>\n",
       "      <td>Nov-12</td>\n",
       "      <td>885773</td>\n",
       "    </tr>\n",
       "    <tr>\n",
       "      <th>2</th>\n",
       "      <td>Dec-12</td>\n",
       "      <td>-448704</td>\n",
       "    </tr>\n",
       "    <tr>\n",
       "      <th>3</th>\n",
       "      <td>Jan-13</td>\n",
       "      <td>563679</td>\n",
       "    </tr>\n",
       "    <tr>\n",
       "      <th>4</th>\n",
       "      <td>Feb-13</td>\n",
       "      <td>555394</td>\n",
       "    </tr>\n",
       "  </tbody>\n",
       "</table>\n",
       "</div>"
      ],
      "text/plain": [
       "     Date  Revenue\n",
       "0  Oct-12  1154293\n",
       "1  Nov-12   885773\n",
       "2  Dec-12  -448704\n",
       "3  Jan-13   563679\n",
       "4  Feb-13   555394"
      ]
     },
     "execution_count": 31,
     "metadata": {},
     "output_type": "execute_result"
    }
   ],
   "source": [
    "import pandas as pd\n",
    "import numpy as np\n",
    "df = pd.read_csv('budget_data_1.csv')\n",
    "df.head()"
   ]
  },
  {
   "cell_type": "code",
   "execution_count": 40,
   "metadata": {},
   "outputs": [
    {
     "data": {
      "text/plain": [
       "Oct    4\n",
       "Nov    4\n",
       "Feb    4\n",
       "Jan    4\n",
       "Dec    4\n",
       "Apr    3\n",
       "Jun    3\n",
       "Jul    3\n",
       "May    3\n",
       "Sep    3\n",
       "Aug    3\n",
       "Mar    3\n",
       "Name: month, dtype: int64"
      ]
     },
     "execution_count": 40,
     "metadata": {},
     "output_type": "execute_result"
    }
   ],
   "source": [
    "df['month'] = df['Date'].map(lambda x: x.split(\"-\")[0])\n",
    "df['month'].value_counts()"
   ]
  },
  {
   "cell_type": "code",
   "execution_count": 41,
   "metadata": {},
   "outputs": [
    {
     "data": {
      "text/html": [
       "<div>\n",
       "<style scoped>\n",
       "    .dataframe tbody tr th:only-of-type {\n",
       "        vertical-align: middle;\n",
       "    }\n",
       "\n",
       "    .dataframe tbody tr th {\n",
       "        vertical-align: top;\n",
       "    }\n",
       "\n",
       "    .dataframe thead th {\n",
       "        text-align: right;\n",
       "    }\n",
       "</style>\n",
       "<table border=\"1\" class=\"dataframe\">\n",
       "  <thead>\n",
       "    <tr style=\"text-align: right;\">\n",
       "      <th></th>\n",
       "      <th>Date</th>\n",
       "      <th>Revenue</th>\n",
       "      <th>shifted_column</th>\n",
       "      <th>difference</th>\n",
       "      <th>month</th>\n",
       "    </tr>\n",
       "  </thead>\n",
       "  <tbody>\n",
       "    <tr>\n",
       "      <th>0</th>\n",
       "      <td>Oct-12</td>\n",
       "      <td>1154293</td>\n",
       "      <td>NaN</td>\n",
       "      <td>NaN</td>\n",
       "      <td>Oct</td>\n",
       "    </tr>\n",
       "    <tr>\n",
       "      <th>1</th>\n",
       "      <td>Nov-12</td>\n",
       "      <td>885773</td>\n",
       "      <td>1154293.0</td>\n",
       "      <td>-268520.0</td>\n",
       "      <td>Nov</td>\n",
       "    </tr>\n",
       "    <tr>\n",
       "      <th>2</th>\n",
       "      <td>Dec-12</td>\n",
       "      <td>-448704</td>\n",
       "      <td>885773.0</td>\n",
       "      <td>-1334477.0</td>\n",
       "      <td>Dec</td>\n",
       "    </tr>\n",
       "    <tr>\n",
       "      <th>3</th>\n",
       "      <td>Jan-13</td>\n",
       "      <td>563679</td>\n",
       "      <td>-448704.0</td>\n",
       "      <td>1012383.0</td>\n",
       "      <td>Jan</td>\n",
       "    </tr>\n",
       "    <tr>\n",
       "      <th>4</th>\n",
       "      <td>Feb-13</td>\n",
       "      <td>555394</td>\n",
       "      <td>563679.0</td>\n",
       "      <td>-8285.0</td>\n",
       "      <td>Feb</td>\n",
       "    </tr>\n",
       "  </tbody>\n",
       "</table>\n",
       "</div>"
      ],
      "text/plain": [
       "     Date  Revenue  shifted_column  difference month\n",
       "0  Oct-12  1154293             NaN         NaN   Oct\n",
       "1  Nov-12   885773       1154293.0   -268520.0   Nov\n",
       "2  Dec-12  -448704        885773.0  -1334477.0   Dec\n",
       "3  Jan-13   563679       -448704.0   1012383.0   Jan\n",
       "4  Feb-13   555394        563679.0     -8285.0   Feb"
      ]
     },
     "execution_count": 41,
     "metadata": {},
     "output_type": "execute_result"
    }
   ],
   "source": [
    "df.head()"
   ]
  },
  {
   "cell_type": "code",
   "execution_count": 34,
   "metadata": {},
   "outputs": [
    {
     "data": {
      "text/plain": [
       "41"
      ]
     },
     "execution_count": 34,
     "metadata": {},
     "output_type": "execute_result"
    }
   ],
   "source": [
    "#total number of months in data\n",
    "df.shape[0]"
   ]
  },
  {
   "cell_type": "code",
   "execution_count": 35,
   "metadata": {},
   "outputs": [
    {
     "data": {
      "text/plain": [
       "18971412"
      ]
     },
     "execution_count": 35,
     "metadata": {},
     "output_type": "execute_result"
    }
   ],
   "source": [
    "#total revenue\n",
    "df['Revenue'].sum()"
   ]
  },
  {
   "cell_type": "code",
   "execution_count": 36,
   "metadata": {},
   "outputs": [
    {
     "name": "stdout",
     "output_type": "stream",
     "text": [
      "-6758.975\n"
     ]
    }
   ],
   "source": [
    "#average change in revenue between months\n",
    "df['shifted_column'] = df['Revenue'].shift(1)\n",
    "df['difference'] = df[\"Revenue\"] - df[\"shifted_column\"]\n",
    "avg_diff = df['difference'].mean()\n",
    "print(avg_diff)\n",
    "\n",
    "# revenue_pair = list(zip(df.shifted_column[1:], df.Revenue[1:]))\n",
    "# difference = [x[1] - x[0] for x in revenue_pair]\n",
    "# avg_shift = (np.mean(difference))\n",
    "# print(revenue_pair[:5])\n",
    "# print(avg_shift)"
   ]
  },
  {
   "cell_type": "code",
   "execution_count": 38,
   "metadata": {},
   "outputs": [
    {
     "name": "stdout",
     "output_type": "stream",
     "text": [
      "1837235.0\n",
      "Feb-16\n"
     ]
    }
   ],
   "source": [
    "#greatest increase in revenue (date/amount)\n",
    "revenue_pair = list(zip(df.shifted_column[1:], df.Revenue[1:]))\n",
    "difference = [x[1] - x[0] for x in revenue_pair]\n",
    "print(max(difference))\n",
    "print(df.iloc[difference.index(max(difference)) + 1].Date)\n"
   ]
  },
  {
   "cell_type": "code",
   "execution_count": 42,
   "metadata": {},
   "outputs": [
    {
     "name": "stdout",
     "output_type": "stream",
     "text": [
      "-1779747.0\n",
      "Aug-14\n"
     ]
    }
   ],
   "source": [
    "#greatest decrase in revenue (date/amount)\n",
    "revenue_pair = list(zip(df.shifted_column[1:], df.Revenue[1:]))\n",
    "difference = [x[1] - x[0] for x in revenue_pair]\n",
    "print(min(difference))\n",
    "print(df.iloc[difference.index(min(difference)) + 1].Date)"
   ]
  },
  {
   "cell_type": "markdown",
   "metadata": {},
   "source": [
    "Total months in data: 41\n",
    "Total revenue: $18,971,412\n",
    "Average change in revenue: 6758.975\n",
    "greatest increase in revenue: Feb 2016, $1,837,235\n",
    "greatest decrease in revenue: Aug 2014, $1,779,747"
   ]
  }
 ],
 "metadata": {
  "kernelspec": {
   "display_name": "Python 3",
   "language": "python",
   "name": "python3"
  },
  "language_info": {
   "codemirror_mode": {
    "name": "ipython",
    "version": 3
   },
   "file_extension": ".py",
   "mimetype": "text/x-python",
   "name": "python",
   "nbconvert_exporter": "python",
   "pygments_lexer": "ipython3",
   "version": "3.6.4"
  }
 },
 "nbformat": 4,
 "nbformat_minor": 2
}
