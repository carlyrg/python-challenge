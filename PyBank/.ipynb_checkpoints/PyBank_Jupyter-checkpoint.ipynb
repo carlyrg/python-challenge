{
 "cells": [
  {
   "cell_type": "code",
   "execution_count": 12,
   "metadata": {},
   "outputs": [
    {
     "data": {
      "text/html": [
       "<div>\n",
       "<style scoped>\n",
       "    .dataframe tbody tr th:only-of-type {\n",
       "        vertical-align: middle;\n",
       "    }\n",
       "\n",
       "    .dataframe tbody tr th {\n",
       "        vertical-align: top;\n",
       "    }\n",
       "\n",
       "    .dataframe thead th {\n",
       "        text-align: right;\n",
       "    }\n",
       "</style>\n",
       "<table border=\"1\" class=\"dataframe\">\n",
       "  <thead>\n",
       "    <tr style=\"text-align: right;\">\n",
       "      <th></th>\n",
       "      <th>Date</th>\n",
       "      <th>Revenue</th>\n",
       "    </tr>\n",
       "  </thead>\n",
       "  <tbody>\n",
       "    <tr>\n",
       "      <th>0</th>\n",
       "      <td>Jan-2009</td>\n",
       "      <td>943690</td>\n",
       "    </tr>\n",
       "    <tr>\n",
       "      <th>1</th>\n",
       "      <td>Feb-2009</td>\n",
       "      <td>1062565</td>\n",
       "    </tr>\n",
       "    <tr>\n",
       "      <th>2</th>\n",
       "      <td>Mar-2009</td>\n",
       "      <td>210079</td>\n",
       "    </tr>\n",
       "    <tr>\n",
       "      <th>3</th>\n",
       "      <td>Apr-2009</td>\n",
       "      <td>-735286</td>\n",
       "    </tr>\n",
       "    <tr>\n",
       "      <th>4</th>\n",
       "      <td>May-2009</td>\n",
       "      <td>842933</td>\n",
       "    </tr>\n",
       "  </tbody>\n",
       "</table>\n",
       "</div>"
      ],
      "text/plain": [
       "       Date  Revenue\n",
       "0  Jan-2009   943690\n",
       "1  Feb-2009  1062565\n",
       "2  Mar-2009   210079\n",
       "3  Apr-2009  -735286\n",
       "4  May-2009   842933"
      ]
     },
     "execution_count": 12,
     "metadata": {},
     "output_type": "execute_result"
    }
   ],
   "source": [
    "import pandas as pd\n",
    "df = pd.read_csv('budget_data_1.csv')\n",
    "df.head()\n",
    "df2 = pd.read_csv('budget_data_2.csv')\n",
    "df2.head()"
   ]
  },
  {
   "cell_type": "code",
   "execution_count": 15,
   "metadata": {},
   "outputs": [
    {
     "data": {
      "text/plain": [
       "Feb    4\n",
       "Jan    4\n",
       "Dec    4\n",
       "Oct    4\n",
       "Nov    4\n",
       "Jul    3\n",
       "May    3\n",
       "Sep    3\n",
       "Aug    3\n",
       "Jun    3\n",
       "Apr    3\n",
       "Mar    3\n",
       "Name: month, dtype: int64"
      ]
     },
     "execution_count": 15,
     "metadata": {},
     "output_type": "execute_result"
    }
   ],
   "source": [
    "df['month'] = df['Date'].map(lambda x: x.split(\"-\")[0])\n",
    "df['month'].value_counts()"
   ]
  },
  {
   "cell_type": "code",
   "execution_count": 69,
   "metadata": {},
   "outputs": [
    {
     "data": {
      "text/html": [
       "<div>\n",
       "<style scoped>\n",
       "    .dataframe tbody tr th:only-of-type {\n",
       "        vertical-align: middle;\n",
       "    }\n",
       "\n",
       "    .dataframe tbody tr th {\n",
       "        vertical-align: top;\n",
       "    }\n",
       "\n",
       "    .dataframe thead th {\n",
       "        text-align: right;\n",
       "    }\n",
       "</style>\n",
       "<table border=\"1\" class=\"dataframe\">\n",
       "  <thead>\n",
       "    <tr style=\"text-align: right;\">\n",
       "      <th></th>\n",
       "      <th>Date</th>\n",
       "      <th>Revenue</th>\n",
       "      <th>month</th>\n",
       "      <th>shifted_column</th>\n",
       "      <th>difference</th>\n",
       "    </tr>\n",
       "  </thead>\n",
       "  <tbody>\n",
       "    <tr>\n",
       "      <th>0</th>\n",
       "      <td>Oct-12</td>\n",
       "      <td>1154293</td>\n",
       "      <td>Oct</td>\n",
       "      <td>NaN</td>\n",
       "      <td>NaN</td>\n",
       "    </tr>\n",
       "    <tr>\n",
       "      <th>1</th>\n",
       "      <td>Nov-12</td>\n",
       "      <td>885773</td>\n",
       "      <td>Nov</td>\n",
       "      <td>1154293.0</td>\n",
       "      <td>268520.0</td>\n",
       "    </tr>\n",
       "    <tr>\n",
       "      <th>2</th>\n",
       "      <td>Dec-12</td>\n",
       "      <td>-448704</td>\n",
       "      <td>Dec</td>\n",
       "      <td>885773.0</td>\n",
       "      <td>1334477.0</td>\n",
       "    </tr>\n",
       "    <tr>\n",
       "      <th>3</th>\n",
       "      <td>Jan-13</td>\n",
       "      <td>563679</td>\n",
       "      <td>Jan</td>\n",
       "      <td>-448704.0</td>\n",
       "      <td>1012383.0</td>\n",
       "    </tr>\n",
       "    <tr>\n",
       "      <th>4</th>\n",
       "      <td>Feb-13</td>\n",
       "      <td>555394</td>\n",
       "      <td>Feb</td>\n",
       "      <td>563679.0</td>\n",
       "      <td>8285.0</td>\n",
       "    </tr>\n",
       "  </tbody>\n",
       "</table>\n",
       "</div>"
      ],
      "text/plain": [
       "     Date  Revenue month  shifted_column  difference\n",
       "0  Oct-12  1154293   Oct             NaN         NaN\n",
       "1  Nov-12   885773   Nov       1154293.0    268520.0\n",
       "2  Dec-12  -448704   Dec        885773.0   1334477.0\n",
       "3  Jan-13   563679   Jan       -448704.0   1012383.0\n",
       "4  Feb-13   555394   Feb        563679.0      8285.0"
      ]
     },
     "execution_count": 69,
     "metadata": {},
     "output_type": "execute_result"
    }
   ],
   "source": [
    "df.head()"
   ]
  },
  {
   "cell_type": "code",
   "execution_count": 21,
   "metadata": {},
   "outputs": [
    {
     "data": {
      "text/plain": [
       "127"
      ]
     },
     "execution_count": 21,
     "metadata": {},
     "output_type": "execute_result"
    }
   ],
   "source": [
    "#total number of months in data\n",
    "df.shape[0] + df2.shape[0]"
   ]
  },
  {
   "cell_type": "code",
   "execution_count": 25,
   "metadata": {},
   "outputs": [
    {
     "data": {
      "text/plain": [
       "55945323"
      ]
     },
     "execution_count": 25,
     "metadata": {},
     "output_type": "execute_result"
    }
   ],
   "source": [
    "#total revenue\n",
    "df['Revenue'].sum() + df2['Revenue'].sum()"
   ]
  },
  {
   "cell_type": "code",
   "execution_count": 45,
   "metadata": {},
   "outputs": [
    {
     "data": {
      "text/plain": [
       "mean    0.193992\n",
       "Name: Revenue, dtype: float64"
      ]
     },
     "execution_count": 45,
     "metadata": {},
     "output_type": "execute_result"
    }
   ],
   "source": [
    "#average percent change in revenue between months\n",
    "df['Revenue'].pct_change(1).agg(['mean'])"
   ]
  },
  {
   "cell_type": "code",
   "execution_count": 68,
   "metadata": {},
   "outputs": [
    {
     "name": "stdout",
     "output_type": "stream",
     "text": [
      "1336049.5\n"
     ]
    }
   ],
   "source": [
    "#average change in revenue between months\n",
    "df['shifted_column'] = df['Revenue'].shift(1)\n",
    "df['difference'] = df[\"Revenue\"] - df[\"shifted_column\"]\n",
    "df['difference'] = df['difference'].abs()\n",
    "\n",
    "df2['shifted_column2'] = df2['Revenue'].shift(1)\n",
    "df2['difference2'] = df2[\"Revenue\"] - df2[\"shifted_column2\"]\n",
    "df2['difference2'] = df2['difference2'].abs()\n",
    "avg_diff = (df['difference'] + df2['difference2']).mean()\n",
    "print(avg_diff)"
   ]
  },
  {
   "cell_type": "code",
   "execution_count": 85,
   "metadata": {},
   "outputs": [
    {
     "name": "stdout",
     "output_type": "stream",
     "text": [
      "65\n"
     ]
    }
   ],
   "source": [
    "#greatest increase in revenue (date/amount)\n",
    "Increase1 = (df['Revenue'] - df['shifted_column']).abs().idxmax()\n",
    "Increase2 = (df2['Revenue'] - df2['shifted_column2']).abs().idxmax()\n",
    "if Increase1 > Increase2:\n",
    "    print(Increase1)\n",
    "else:\n",
    "    print(Increase2)\n"
   ]
  },
  {
   "cell_type": "code",
   "execution_count": 88,
   "metadata": {},
   "outputs": [
    {
     "data": {
      "text/plain": [
       "Date                  Jun-2014\n",
       "Revenue                -930753\n",
       "shifted_column2    1.01699e+06\n",
       "difference2        1.94774e+06\n",
       "Name: 65, dtype: object"
      ]
     },
     "execution_count": 88,
     "metadata": {},
     "output_type": "execute_result"
    }
   ],
   "source": [
    "#greatest increase locator\n",
    "df2.iloc[65]"
   ]
  },
  {
   "cell_type": "code",
   "execution_count": 91,
   "metadata": {},
   "outputs": [
    {
     "name": "stdout",
     "output_type": "stream",
     "text": [
      "4\n"
     ]
    }
   ],
   "source": [
    "#greatest decrase in revenue (date/amount)\n",
    "Decrease1 = (df['Revenue'] - df['shifted_column']).abs().idxmin()\n",
    "Decrease2 = (df2['Revenue'] - df2['shifted_column2']).abs().idxmin()\n",
    "if Decrease1 < Decrease2:\n",
    "    print(Decrease1)\n",
    "else:\n",
    "    print(Decrease2)"
   ]
  },
  {
   "cell_type": "code",
   "execution_count": 93,
   "metadata": {},
   "outputs": [
    {
     "data": {
      "text/plain": [
       "Date              Feb-13\n",
       "Revenue           555394\n",
       "month                Feb\n",
       "shifted_column    563679\n",
       "difference          8285\n",
       "Name: 4, dtype: object"
      ]
     },
     "execution_count": 93,
     "metadata": {},
     "output_type": "execute_result"
    }
   ],
   "source": [
    "df.iloc[4]"
   ]
  },
  {
   "cell_type": "code",
   "execution_count": 94,
   "metadata": {},
   "outputs": [
    {
     "data": {
      "text/plain": [
       "Date                  May-2009\n",
       "Revenue                 842933\n",
       "shifted_column2        -735286\n",
       "difference2        1.57822e+06\n",
       "Name: 4, dtype: object"
      ]
     },
     "execution_count": 94,
     "metadata": {},
     "output_type": "execute_result"
    }
   ],
   "source": [
    "#greatest decrease in revenue, data locator\n",
    "df2.iloc[4]"
   ]
  }
 ],
 "metadata": {
  "kernelspec": {
   "display_name": "Python 3",
   "language": "python",
   "name": "python3"
  },
  "language_info": {
   "codemirror_mode": {
    "name": "ipython",
    "version": 3
   },
   "file_extension": ".py",
   "mimetype": "text/x-python",
   "name": "python",
   "nbconvert_exporter": "python",
   "pygments_lexer": "ipython3",
   "version": "3.6.4"
  }
 },
 "nbformat": 4,
 "nbformat_minor": 2
}
